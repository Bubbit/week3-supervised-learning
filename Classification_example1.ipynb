{
  "nbformat": 4,
  "nbformat_minor": 0,
  "metadata": {
    "colab": {
      "name": "Classification_example1.ipynb",
      "provenance": [],
      "collapsed_sections": [],
      "authorship_tag": "ABX9TyMpU5aIqbr0XYM/yGRv93nh",
      "include_colab_link": true
    },
    "kernelspec": {
      "name": "python3",
      "display_name": "Python 3"
    }
  },
  "cells": [
    {
      "cell_type": "markdown",
      "metadata": {
        "id": "view-in-github",
        "colab_type": "text"
      },
      "source": [
        "<a href=\"https://colab.research.google.com/github/Bubbit/week3-supervised-learning/blob/master/Classification_example1.ipynb\" target=\"_parent\"><img src=\"https://colab.research.google.com/assets/colab-badge.svg\" alt=\"Open In Colab\"/></a>"
      ]
    },
    {
      "cell_type": "code",
      "metadata": {
        "id": "DnaJW_LWQ4iB",
        "colab_type": "code",
        "colab": {
          "base_uri": "https://localhost:8080/",
          "height": 510
        },
        "outputId": "a7d5c7bd-e86c-4573-9409-234e22886e02"
      },
      "source": [
        "# Download lesson datasets\n",
        "# Required if you're using Google Colab\n",
        "!wget \"https://github.com/ML-Challenge/week3-supervised-learning/raw/master/datasets.zip\"\n",
        "!unzip -o datasets.zip\n",
        "\n",
        "# Import dependencies\n",
        "import utils\n",
        "import pandas as pd\n",
        "import numpy as np\n",
        "\n",
        "import matplotlib.pyplot as plt\n",
        "# and setting the size of all plots.\n",
        "plt.rcParams['figure.figsize'] = [11, 7]"
      ],
      "execution_count": 2,
      "outputs": [
        {
          "output_type": "stream",
          "text": [
            "--2020-02-23 09:00:05--  https://github.com/ML-Challenge/week3-supervised-learning/raw/master/datasets.zip\n",
            "Resolving github.com (github.com)... 140.82.113.3\n",
            "Connecting to github.com (github.com)|140.82.113.3|:443... connected.\n",
            "HTTP request sent, awaiting response... 302 Found\n",
            "Location: https://raw.githubusercontent.com/ML-Challenge/week3-supervised-learning/master/datasets.zip [following]\n",
            "--2020-02-23 09:00:06--  https://raw.githubusercontent.com/ML-Challenge/week3-supervised-learning/master/datasets.zip\n",
            "Resolving raw.githubusercontent.com (raw.githubusercontent.com)... 151.101.0.133, 151.101.64.133, 151.101.128.133, ...\n",
            "Connecting to raw.githubusercontent.com (raw.githubusercontent.com)|151.101.0.133|:443... connected.\n",
            "HTTP request sent, awaiting response... 200 OK\n",
            "Length: 132103 (129K) [application/zip]\n",
            "Saving to: ‘datasets.zip’\n",
            "\n",
            "datasets.zip        100%[===================>] 129.01K  --.-KB/s    in 0.04s   \n",
            "\n",
            "2020-02-23 09:00:07 (3.45 MB/s) - ‘datasets.zip’ saved [132103/132103]\n",
            "\n",
            "Archive:  datasets.zip\n",
            "  inflating: utils.py                \n",
            "   creating: data/\n",
            "  inflating: data/wbc.csv            \n",
            "  inflating: data/bikes.csv          \n",
            "  inflating: data/indian_liver_patient.csv  \n",
            "  inflating: data/boston.csv         \n",
            "  inflating: data/tic-tac-toe.csv    \n",
            "  inflating: data/indian_liver_patient_preprocessed.csv  \n",
            "  inflating: data/house-votes-84.csv  \n",
            "  inflating: data/diabetes.csv       \n",
            "  inflating: data/auto.csv           \n",
            "  inflating: data/gapminder.csv      \n"
          ],
          "name": "stdout"
        }
      ]
    },
    {
      "cell_type": "code",
      "metadata": {
        "id": "1ZQBzXhLRAkA",
        "colab_type": "code",
        "colab": {
          "base_uri": "https://localhost:8080/",
          "height": 1000
        },
        "outputId": "d397177e-0f9e-47a6-f786-73582291f2d8"
      },
      "source": [
        "from sklearn.datasets import load_wine\n",
        "\n",
        "## Load dataset and look at default data\n",
        "wine_data = load_wine()\n",
        "print(wine_data.keys())\n",
        "print(wine_data.DESCR)\n",
        "\n",
        "print(wine_data.data.shape)\n",
        "\n",
        "pd_wine = pd.DataFrame(data= np.c_[wine_data['data'], wine_data['target']],\n",
        "                     columns= wine_data['feature_names'] + ['target'])\n",
        "\n",
        "print(pd_wine.head())\n",
        "print(pd_wine.tail())"
      ],
      "execution_count": 45,
      "outputs": [
        {
          "output_type": "stream",
          "text": [
            "dict_keys(['data', 'target', 'target_names', 'DESCR', 'feature_names'])\n",
            ".. _wine_dataset:\n",
            "\n",
            "Wine recognition dataset\n",
            "------------------------\n",
            "\n",
            "**Data Set Characteristics:**\n",
            "\n",
            "    :Number of Instances: 178 (50 in each of three classes)\n",
            "    :Number of Attributes: 13 numeric, predictive attributes and the class\n",
            "    :Attribute Information:\n",
            " \t\t- Alcohol\n",
            " \t\t- Malic acid\n",
            " \t\t- Ash\n",
            "\t\t- Alcalinity of ash  \n",
            " \t\t- Magnesium\n",
            "\t\t- Total phenols\n",
            " \t\t- Flavanoids\n",
            " \t\t- Nonflavanoid phenols\n",
            " \t\t- Proanthocyanins\n",
            "\t\t- Color intensity\n",
            " \t\t- Hue\n",
            " \t\t- OD280/OD315 of diluted wines\n",
            " \t\t- Proline\n",
            "\n",
            "    - class:\n",
            "            - class_0\n",
            "            - class_1\n",
            "            - class_2\n",
            "\t\t\n",
            "    :Summary Statistics:\n",
            "    \n",
            "    ============================= ==== ===== ======= =====\n",
            "                                   Min   Max   Mean     SD\n",
            "    ============================= ==== ===== ======= =====\n",
            "    Alcohol:                      11.0  14.8    13.0   0.8\n",
            "    Malic Acid:                   0.74  5.80    2.34  1.12\n",
            "    Ash:                          1.36  3.23    2.36  0.27\n",
            "    Alcalinity of Ash:            10.6  30.0    19.5   3.3\n",
            "    Magnesium:                    70.0 162.0    99.7  14.3\n",
            "    Total Phenols:                0.98  3.88    2.29  0.63\n",
            "    Flavanoids:                   0.34  5.08    2.03  1.00\n",
            "    Nonflavanoid Phenols:         0.13  0.66    0.36  0.12\n",
            "    Proanthocyanins:              0.41  3.58    1.59  0.57\n",
            "    Colour Intensity:              1.3  13.0     5.1   2.3\n",
            "    Hue:                          0.48  1.71    0.96  0.23\n",
            "    OD280/OD315 of diluted wines: 1.27  4.00    2.61  0.71\n",
            "    Proline:                       278  1680     746   315\n",
            "    ============================= ==== ===== ======= =====\n",
            "\n",
            "    :Missing Attribute Values: None\n",
            "    :Class Distribution: class_0 (59), class_1 (71), class_2 (48)\n",
            "    :Creator: R.A. Fisher\n",
            "    :Donor: Michael Marshall (MARSHALL%PLU@io.arc.nasa.gov)\n",
            "    :Date: July, 1988\n",
            "\n",
            "This is a copy of UCI ML Wine recognition datasets.\n",
            "https://archive.ics.uci.edu/ml/machine-learning-databases/wine/wine.data\n",
            "\n",
            "The data is the results of a chemical analysis of wines grown in the same\n",
            "region in Italy by three different cultivators. There are thirteen different\n",
            "measurements taken for different constituents found in the three types of\n",
            "wine.\n",
            "\n",
            "Original Owners: \n",
            "\n",
            "Forina, M. et al, PARVUS - \n",
            "An Extendible Package for Data Exploration, Classification and Correlation. \n",
            "Institute of Pharmaceutical and Food Analysis and Technologies,\n",
            "Via Brigata Salerno, 16147 Genoa, Italy.\n",
            "\n",
            "Citation:\n",
            "\n",
            "Lichman, M. (2013). UCI Machine Learning Repository\n",
            "[https://archive.ics.uci.edu/ml]. Irvine, CA: University of California,\n",
            "School of Information and Computer Science. \n",
            "\n",
            ".. topic:: References\n",
            "\n",
            "  (1) S. Aeberhard, D. Coomans and O. de Vel, \n",
            "  Comparison of Classifiers in High Dimensional Settings, \n",
            "  Tech. Rep. no. 92-02, (1992), Dept. of Computer Science and Dept. of  \n",
            "  Mathematics and Statistics, James Cook University of North Queensland. \n",
            "  (Also submitted to Technometrics). \n",
            "\n",
            "  The data was used with many others for comparing various \n",
            "  classifiers. The classes are separable, though only RDA \n",
            "  has achieved 100% correct classification. \n",
            "  (RDA : 100%, QDA 99.4%, LDA 98.9%, 1NN 96.1% (z-transformed data)) \n",
            "  (All results using the leave-one-out technique) \n",
            "\n",
            "  (2) S. Aeberhard, D. Coomans and O. de Vel, \n",
            "  \"THE CLASSIFICATION PERFORMANCE OF RDA\" \n",
            "  Tech. Rep. no. 92-01, (1992), Dept. of Computer Science and Dept. of \n",
            "  Mathematics and Statistics, James Cook University of North Queensland. \n",
            "  (Also submitted to Journal of Chemometrics).\n",
            "\n",
            "(178, 13)\n",
            "   alcohol  malic_acid   ash  ...  od280/od315_of_diluted_wines  proline  target\n",
            "0    14.23        1.71  2.43  ...                          3.92   1065.0     0.0\n",
            "1    13.20        1.78  2.14  ...                          3.40   1050.0     0.0\n",
            "2    13.16        2.36  2.67  ...                          3.17   1185.0     0.0\n",
            "3    14.37        1.95  2.50  ...                          3.45   1480.0     0.0\n",
            "4    13.24        2.59  2.87  ...                          2.93    735.0     0.0\n",
            "\n",
            "[5 rows x 14 columns]\n",
            "     alcohol  malic_acid   ash  ...  od280/od315_of_diluted_wines  proline  target\n",
            "173    13.71        5.65  2.45  ...                          1.74    740.0     2.0\n",
            "174    13.40        3.91  2.48  ...                          1.56    750.0     2.0\n",
            "175    13.27        4.28  2.26  ...                          1.56    835.0     2.0\n",
            "176    13.17        2.59  2.37  ...                          1.62    840.0     2.0\n",
            "177    14.13        4.10  2.74  ...                          1.60    560.0     2.0\n",
            "\n",
            "[5 rows x 14 columns]\n"
          ],
          "name": "stdout"
        }
      ]
    },
    {
      "cell_type": "code",
      "metadata": {
        "id": "X-GfQR1nRzOA",
        "colab_type": "code",
        "colab": {
          "base_uri": "https://localhost:8080/",
          "height": 136
        },
        "outputId": "7da779c1-00a8-49a8-e913-ed715c3656ec"
      },
      "source": [
        "# Split into train/test\n",
        "\n",
        "# Import necessary modules\n",
        "from sklearn.model_selection import train_test_split\n",
        "# Import KNeighborsClassifier from sklearn.neighbors\n",
        "from sklearn.neighbors import KNeighborsClassifier\n",
        "\n",
        "# Create feature and target arrays\n",
        "data = wine_data.data\n",
        "print(data)\n",
        "labels = wine_data.target\n",
        "\n",
        "data_train, data_test, labels_train, labels_test = train_test_split(data, labels, test_size = 0.2, random_state=42, stratify=labels)"
      ],
      "execution_count": 41,
      "outputs": [
        {
          "output_type": "stream",
          "text": [
            "[[1.423e+01 1.710e+00 2.430e+00 ... 1.040e+00 3.920e+00 1.065e+03]\n",
            " [1.320e+01 1.780e+00 2.140e+00 ... 1.050e+00 3.400e+00 1.050e+03]\n",
            " [1.316e+01 2.360e+00 2.670e+00 ... 1.030e+00 3.170e+00 1.185e+03]\n",
            " ...\n",
            " [1.327e+01 4.280e+00 2.260e+00 ... 5.900e-01 1.560e+00 8.350e+02]\n",
            " [1.317e+01 2.590e+00 2.370e+00 ... 6.000e-01 1.620e+00 8.400e+02]\n",
            " [1.413e+01 4.100e+00 2.740e+00 ... 6.100e-01 1.600e+00 5.600e+02]]\n"
          ],
          "name": "stdout"
        }
      ]
    },
    {
      "cell_type": "code",
      "metadata": {
        "id": "q2EEGjYcS9aK",
        "colab_type": "code",
        "colab": {}
      },
      "source": [
        "# Setup arrays to store train and test accuracies\n",
        "neighbors = np.arange(1, 9)\n",
        "train_accuracy = np.empty(len(neighbors))\n",
        "test_accuracy = np.empty(len(neighbors))"
      ],
      "execution_count": 0,
      "outputs": []
    },
    {
      "cell_type": "code",
      "metadata": {
        "id": "Ka641ckfTDTI",
        "colab_type": "code",
        "colab": {}
      },
      "source": [
        "# Loop over different values of k\n",
        "for i, k in enumerate(neighbors):\n",
        "    # Setup a k-NN Classifier with k neighbors: knn\n",
        "    knn = KNeighborsClassifier(n_neighbors=k)\n",
        "\n",
        "    # Fit the classifier to the training data\n",
        "    knn.fit(data_train, labels_train)\n",
        "    \n",
        "    # Compute accuracy on the training set\n",
        "    train_accuracy[i] = knn.score(data_train, labels_train)\n",
        "\n",
        "    # Compute accuracy on the testing set\n",
        "    test_accuracy[i] = knn.score(data_test, labels_test)"
      ],
      "execution_count": 0,
      "outputs": []
    },
    {
      "cell_type": "code",
      "metadata": {
        "id": "zVsOpqCYTW8l",
        "colab_type": "code",
        "colab": {
          "base_uri": "https://localhost:8080/",
          "height": 458
        },
        "outputId": "d16fa6ed-7a7b-4889-9432-487c9cc47ded"
      },
      "source": [
        "# Generate plot\n",
        "plt.title('k-NN: Varying Number of Neighbors')\n",
        "plt.plot(neighbors, test_accuracy, label = 'Testing Accuracy')\n",
        "plt.plot(neighbors, train_accuracy, label = 'Training Accuracy')\n",
        "plt.legend()\n",
        "plt.xlabel('Number of Neighbors')\n",
        "plt.ylabel('Accuracy')\n",
        "plt.show()"
      ],
      "execution_count": 19,
      "outputs": [
        {
          "output_type": "display_data",
          "data": {
            "image/png": "[encoded data removed]",
            "text/plain": [
              "<Figure size 792x504 with 1 Axes>"
            ]
          },
          "metadata": {
            "tags": []
          }
        }
      ]
    },
    {
      "cell_type": "code",
      "metadata": {
        "id": "vUzD5vDFWm1b",
        "colab_type": "code",
        "colab": {
          "base_uri": "https://localhost:8080/",
          "height": 34
        },
        "outputId": "5f2720f9-5d28-4e2e-bc29-ee56d47acdfc"
      },
      "source": [
        "# Use Decision Tree\n",
        "\n",
        "from sklearn.tree import DecisionTreeClassifier\n",
        "dt = DecisionTreeClassifier(max_depth=6, random_state=utils.SEED)\n",
        "\n",
        "dt.fit(data_train, labels_train)\n",
        "\n",
        "dt_pred = dt.predict(data_test)\n",
        "print(dt_pred)"
      ],
      "execution_count": 34,
      "outputs": [
        {
          "output_type": "stream",
          "text": [
            "[0 1 0 1 1 0 0 1 1 2 1 2 0 2 0 1 1 0 1 1 1 1 0 0 1 1 0 2 1 2 0 2 1 2 2 2]\n"
          ],
          "name": "stdout"
        }
      ]
    },
    {
      "cell_type": "code",
      "metadata": {
        "id": "4h_w1ExmbXOb",
        "colab_type": "code",
        "colab": {
          "base_uri": "https://localhost:8080/",
          "height": 34
        },
        "outputId": "1465f8c3-b35e-455d-c2dd-ae84d45eab5f"
      },
      "source": [
        "# Use Logistic Regression\n",
        "\n",
        "from sklearn.linear_model import LogisticRegression\n",
        "logreg = LogisticRegression(solver='liblinear', random_state=utils.SEED)\n",
        "\n",
        "logreg.fit(data_train, labels_train)\n",
        "logreg_pred = logreg.predict(data_test)\n",
        "print(logreg_pred)"
      ],
      "execution_count": 39,
      "outputs": [
        {
          "output_type": "stream",
          "text": [
            "[0 2 0 1 1 0 0 1 1 2 1 2 0 1 0 1 1 0 1 0 1 1 0 0 1 1 0 2 1 2 0 2 1 2 2 2]\n"
          ],
          "name": "stdout"
        }
      ]
    },
    {
      "cell_type": "code",
      "metadata": {
        "id": "8HVyYDB_ZYXQ",
        "colab_type": "code",
        "colab": {
          "base_uri": "https://localhost:8080/",
          "height": 68
        },
        "outputId": "e593351f-fbd4-4c68-effd-c40aa2b3ac01"
      },
      "source": [
        "# Evaluate the approaches\n",
        "\n",
        "from sklearn.metrics import accuracy_score\n",
        "\n",
        "# Compute test set accuracy for Decision tree\n",
        "dt_acc = accuracy_score(labels_test, dt_pred)\n",
        "print(f\"Test set accuracy for dt: {dt_acc:.2f}\")\n",
        "\n",
        "# Compute test set accuracy for Logisctic Regression\n",
        "logreg_acc = accuracy_score(labels_test, logreg_pred)\n",
        "print(f\"Test set accuracy for LR: {logreg_acc:.2f}\")\n",
        "\n",
        "print(f\"Test set accuracy for knn: {max(test_accuracy):.2f}\")"
      ],
      "execution_count": 40,
      "outputs": [
        {
          "output_type": "stream",
          "text": [
            "Test set accuracy for dt: 0.94\n",
            "Test set accuracy for LR: 0.97\n",
            "Test set accuracy for knn: 0.81\n"
          ],
          "name": "stdout"
        }
      ]
    }
  ]
}